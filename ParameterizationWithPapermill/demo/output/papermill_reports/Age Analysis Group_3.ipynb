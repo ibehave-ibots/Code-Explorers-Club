{
 "cells": [
  {
   "cell_type": "markdown",
   "id": "72126360",
   "metadata": {
    "papermill": {
     "duration": 0.006537,
     "end_time": "2024-08-15T11:06:18.974606",
     "exception": false,
     "start_time": "2024-08-15T11:06:18.968069",
     "status": "completed"
    },
    "tags": []
   },
   "source": [
    "# Analysis of Age"
   ]
  },
  {
   "cell_type": "code",
   "execution_count": 1,
   "id": "e8b540dc",
   "metadata": {
    "execution": {
     "iopub.execute_input": "2024-08-15T11:06:18.996705Z",
     "iopub.status.busy": "2024-08-15T11:06:18.994702Z",
     "iopub.status.idle": "2024-08-15T11:06:20.944278Z",
     "shell.execute_reply": "2024-08-15T11:06:20.943268Z"
    },
    "papermill": {
     "duration": 1.964136,
     "end_time": "2024-08-15T11:06:20.947277",
     "exception": false,
     "start_time": "2024-08-15T11:06:18.983141",
     "status": "completed"
    },
    "tags": []
   },
   "outputs": [],
   "source": [
    "import pandas as pd\n",
    "import seaborn as sns"
   ]
  },
  {
   "cell_type": "code",
   "execution_count": 2,
   "id": "69c2599b",
   "metadata": {
    "execution": {
     "iopub.execute_input": "2024-08-15T11:06:20.959820Z",
     "iopub.status.busy": "2024-08-15T11:06:20.959820Z",
     "iopub.status.idle": "2024-08-15T11:06:20.964716Z",
     "shell.execute_reply": "2024-08-15T11:06:20.964716Z"
    },
    "papermill": {
     "duration": 0.013921,
     "end_time": "2024-08-15T11:06:20.966732",
     "exception": false,
     "start_time": "2024-08-15T11:06:20.952811",
     "status": "completed"
    },
    "tags": [
     "parameters"
    ]
   },
   "outputs": [],
   "source": [
    "data_dir = 'data'\n",
    "output_dir = 'output'\n",
    "group = 1"
   ]
  },
  {
   "cell_type": "code",
   "execution_count": 3,
   "id": "b25f7993",
   "metadata": {
    "execution": {
     "iopub.execute_input": "2024-08-15T11:06:20.979261Z",
     "iopub.status.busy": "2024-08-15T11:06:20.977258Z",
     "iopub.status.idle": "2024-08-15T11:06:20.985378Z",
     "shell.execute_reply": "2024-08-15T11:06:20.984366Z"
    },
    "papermill": {
     "duration": 0.01813,
     "end_time": "2024-08-15T11:06:20.989378",
     "exception": false,
     "start_time": "2024-08-15T11:06:20.971248",
     "status": "completed"
    },
    "tags": [
     "injected-parameters"
    ]
   },
   "outputs": [],
   "source": [
    "# Parameters\n",
    "group = 3\n"
   ]
  },
  {
   "cell_type": "markdown",
   "id": "a1f95b5a",
   "metadata": {
    "papermill": {
     "duration": 0.006532,
     "end_time": "2024-08-15T11:06:21.002957",
     "exception": false,
     "start_time": "2024-08-15T11:06:20.996425",
     "status": "completed"
    },
    "tags": []
   },
   "source": [
    "Reading data file"
   ]
  },
  {
   "cell_type": "code",
   "execution_count": 4,
   "id": "99d5a121",
   "metadata": {
    "execution": {
     "iopub.execute_input": "2024-08-15T11:06:21.019499Z",
     "iopub.status.busy": "2024-08-15T11:06:21.019499Z",
     "iopub.status.idle": "2024-08-15T11:06:21.029631Z",
     "shell.execute_reply": "2024-08-15T11:06:21.028622Z"
    },
    "papermill": {
     "duration": 0.023346,
     "end_time": "2024-08-15T11:06:21.031311",
     "exception": false,
     "start_time": "2024-08-15T11:06:21.007965",
     "status": "completed"
    },
    "tags": []
   },
   "outputs": [],
   "source": [
    "file_path = data_dir + '/' + f'group{group}.csv'\n",
    "df = pd.read_csv(file_path)"
   ]
  },
  {
   "cell_type": "markdown",
   "id": "b1381550",
   "metadata": {
    "papermill": {
     "duration": 0.004003,
     "end_time": "2024-08-15T11:06:21.039152",
     "exception": false,
     "start_time": "2024-08-15T11:06:21.035149",
     "status": "completed"
    },
    "tags": []
   },
   "source": [
    "Display data"
   ]
  },
  {
   "cell_type": "code",
   "execution_count": 5,
   "id": "c873cef1",
   "metadata": {
    "execution": {
     "iopub.execute_input": "2024-08-15T11:06:21.048721Z",
     "iopub.status.busy": "2024-08-15T11:06:21.047724Z",
     "iopub.status.idle": "2024-08-15T11:06:21.064344Z",
     "shell.execute_reply": "2024-08-15T11:06:21.064344Z"
    },
    "papermill": {
     "duration": 0.024633,
     "end_time": "2024-08-15T11:06:21.067373",
     "exception": false,
     "start_time": "2024-08-15T11:06:21.042740",
     "status": "completed"
    },
    "tags": []
   },
   "outputs": [
    {
     "data": {
      "text/html": [
       "<div>\n",
       "<style scoped>\n",
       "    .dataframe tbody tr th:only-of-type {\n",
       "        vertical-align: middle;\n",
       "    }\n",
       "\n",
       "    .dataframe tbody tr th {\n",
       "        vertical-align: top;\n",
       "    }\n",
       "\n",
       "    .dataframe thead th {\n",
       "        text-align: right;\n",
       "    }\n",
       "</style>\n",
       "<table border=\"1\" class=\"dataframe\">\n",
       "  <thead>\n",
       "    <tr style=\"text-align: right;\">\n",
       "      <th></th>\n",
       "      <th>name</th>\n",
       "      <th>age</th>\n",
       "    </tr>\n",
       "  </thead>\n",
       "  <tbody>\n",
       "    <tr>\n",
       "      <th>0</th>\n",
       "      <td>Grace</td>\n",
       "      <td>31</td>\n",
       "    </tr>\n",
       "    <tr>\n",
       "      <th>1</th>\n",
       "      <td>Heidi</td>\n",
       "      <td>42</td>\n",
       "    </tr>\n",
       "    <tr>\n",
       "      <th>2</th>\n",
       "      <td>Ivan</td>\n",
       "      <td>36</td>\n",
       "    </tr>\n",
       "  </tbody>\n",
       "</table>\n",
       "</div>"
      ],
      "text/plain": [
       "    name  age\n",
       "0  Grace   31\n",
       "1  Heidi   42\n",
       "2   Ivan   36"
      ]
     },
     "execution_count": 5,
     "metadata": {},
     "output_type": "execute_result"
    }
   ],
   "source": [
    "df"
   ]
  },
  {
   "cell_type": "markdown",
   "id": "184307e9",
   "metadata": {
    "papermill": {
     "duration": 0.003001,
     "end_time": "2024-08-15T11:06:21.074867",
     "exception": false,
     "start_time": "2024-08-15T11:06:21.071866",
     "status": "completed"
    },
    "tags": []
   },
   "source": [
    "Mean age"
   ]
  },
  {
   "cell_type": "code",
   "execution_count": 6,
   "id": "6f7ff14a",
   "metadata": {
    "execution": {
     "iopub.execute_input": "2024-08-15T11:06:21.085974Z",
     "iopub.status.busy": "2024-08-15T11:06:21.085974Z",
     "iopub.status.idle": "2024-08-15T11:06:21.093514Z",
     "shell.execute_reply": "2024-08-15T11:06:21.091984Z"
    },
    "papermill": {
     "duration": 0.017667,
     "end_time": "2024-08-15T11:06:21.096540",
     "exception": false,
     "start_time": "2024-08-15T11:06:21.078873",
     "status": "completed"
    },
    "tags": []
   },
   "outputs": [
    {
     "name": "stdout",
     "output_type": "stream",
     "text": [
      "36.33\n"
     ]
    }
   ],
   "source": [
    "print(df.age.mean().round(2))"
   ]
  },
  {
   "cell_type": "markdown",
   "id": "ef7eaf03",
   "metadata": {
    "papermill": {
     "duration": 0.003898,
     "end_time": "2024-08-15T11:06:21.105055",
     "exception": false,
     "start_time": "2024-08-15T11:06:21.101157",
     "status": "completed"
    },
    "tags": []
   },
   "source": [
    "Writing results to a file"
   ]
  },
  {
   "cell_type": "code",
   "execution_count": 7,
   "id": "5a47b858",
   "metadata": {
    "execution": {
     "iopub.execute_input": "2024-08-15T11:06:21.114570Z",
     "iopub.status.busy": "2024-08-15T11:06:21.114570Z",
     "iopub.status.idle": "2024-08-15T11:06:21.127131Z",
     "shell.execute_reply": "2024-08-15T11:06:21.125116Z"
    },
    "papermill": {
     "duration": 0.021072,
     "end_time": "2024-08-15T11:06:21.130127",
     "exception": false,
     "start_time": "2024-08-15T11:06:21.109055",
     "status": "completed"
    },
    "tags": []
   },
   "outputs": [],
   "source": [
    "output_file = output_dir + '/' + f'group{group}_results.txt'\n",
    "with open(output_file, 'w') as f:\n",
    "    f.write(str(df.age.mean().round(2)))"
   ]
  }
 ],
 "metadata": {
  "kernelspec": {
   "display_name": "Python 3",
   "language": "python",
   "name": "python3"
  },
  "language_info": {
   "codemirror_mode": {
    "name": "ipython",
    "version": 3
   },
   "file_extension": ".py",
   "mimetype": "text/x-python",
   "name": "python",
   "nbconvert_exporter": "python",
   "pygments_lexer": "ipython3",
   "version": "3.12.4"
  },
  "papermill": {
   "default_parameters": {},
   "duration": 5.175158,
   "end_time": "2024-08-15T11:06:21.696555",
   "environment_variables": {},
   "exception": null,
   "input_path": "Age Analysis.ipynb",
   "output_path": "output/papermill_reports/Age Analysis Group_3.ipynb",
   "parameters": {
    "group": 3
   },
   "start_time": "2024-08-15T11:06:16.521397",
   "version": "2.6.0"
  }
 },
 "nbformat": 4,
 "nbformat_minor": 5
}