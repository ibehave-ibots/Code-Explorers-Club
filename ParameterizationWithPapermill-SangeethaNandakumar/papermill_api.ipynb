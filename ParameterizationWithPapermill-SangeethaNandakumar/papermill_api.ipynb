{
 "cells": [
  {
   "cell_type": "markdown",
   "id": "5e5b949f",
   "metadata": {
    "tags": [
     "papermill-error-cell-tag"
    ]
   },
   "source": [
    "<span style=\"color:red; font-family:Helvetica Neue, Helvetica, Arial, sans-serif; font-size:2em;\">An Exception was encountered at '<a href=\"#papermill-error-cell\">In [3]</a>'.</span>"
   ]
  },
  {
   "cell_type": "markdown",
   "id": "965118b7",
   "metadata": {
    "papermill": {
     "duration": 0.006984,
     "end_time": "2024-08-15T11:01:09.550794",
     "exception": false,
     "start_time": "2024-08-15T11:01:09.543810",
     "status": "completed"
    },
    "tags": []
   },
   "source": [
    "Parameters"
   ]
  },
  {
   "cell_type": "code",
   "execution_count": 1,
   "id": "02c1b3fb",
   "metadata": {
    "execution": {
     "iopub.execute_input": "2024-08-15T11:01:09.572621Z",
     "iopub.status.busy": "2024-08-15T11:01:09.571000Z",
     "iopub.status.idle": "2024-08-15T11:01:09.585688Z",
     "shell.execute_reply": "2024-08-15T11:01:09.583657Z"
    },
    "papermill": {
     "duration": 0.029321,
     "end_time": "2024-08-15T11:01:09.589676",
     "exception": false,
     "start_time": "2024-08-15T11:01:09.560355",
     "status": "completed"
    },
    "tags": [
     "parameters"
    ]
   },
   "outputs": [],
   "source": [
    "a = 10\n",
    "b = 20"
   ]
  },
  {
   "cell_type": "code",
   "execution_count": 2,
   "id": "193bcdb8",
   "metadata": {
    "execution": {
     "iopub.execute_input": "2024-08-15T11:01:09.606460Z",
     "iopub.status.busy": "2024-08-15T11:01:09.605459Z",
     "iopub.status.idle": "2024-08-15T11:01:09.616031Z",
     "shell.execute_reply": "2024-08-15T11:01:09.612997Z"
    },
    "papermill": {
     "duration": 0.027693,
     "end_time": "2024-08-15T11:01:09.623595",
     "exception": false,
     "start_time": "2024-08-15T11:01:09.595902",
     "status": "completed"
    },
    "tags": [
     "injected-parameters"
    ]
   },
   "outputs": [],
   "source": [
    "# Parameters\n",
    "a = 5\n",
    "b = \"sangeetha\"\n"
   ]
  },
  {
   "cell_type": "markdown",
   "id": "2bdbe923",
   "metadata": {
    "papermill": {
     "duration": 0.007571,
     "end_time": "2024-08-15T11:01:09.636168",
     "exception": false,
     "start_time": "2024-08-15T11:01:09.628597",
     "status": "completed"
    },
    "tags": []
   },
   "source": [
    "Analysis"
   ]
  },
  {
   "cell_type": "markdown",
   "id": "ec54a173",
   "metadata": {
    "tags": [
     "papermill-error-cell-tag"
    ]
   },
   "source": [
    "<span id=\"papermill-error-cell\" style=\"color:red; font-family:Helvetica Neue, Helvetica, Arial, sans-serif; font-size:2em;\">Execution using papermill encountered an exception here and stopped:</span>"
   ]
  },
  {
   "cell_type": "code",
   "execution_count": 3,
   "id": "7bd4c324",
   "metadata": {
    "execution": {
     "iopub.execute_input": "2024-08-15T11:01:09.657267Z",
     "iopub.status.busy": "2024-08-15T11:01:09.655289Z",
     "iopub.status.idle": "2024-08-15T11:01:10.299272Z",
     "shell.execute_reply": "2024-08-15T11:01:10.296238Z"
    },
    "papermill": {
     "duration": 0.660116,
     "end_time": "2024-08-15T11:01:10.303831",
     "exception": true,
     "start_time": "2024-08-15T11:01:09.643715",
     "status": "failed"
    },
    "tags": []
   },
   "outputs": [
    {
     "ename": "TypeError",
     "evalue": "unsupported operand type(s) for +: 'int' and 'str'",
     "output_type": "error",
     "traceback": [
      "\u001b[1;31m---------------------------------------------------------------------------\u001b[0m",
      "\u001b[1;31mTypeError\u001b[0m                                 Traceback (most recent call last)",
      "Cell \u001b[1;32mIn[3], line 1\u001b[0m\n\u001b[1;32m----> 1\u001b[0m c \u001b[38;5;241m=\u001b[39m \u001b[43ma\u001b[49m\u001b[43m \u001b[49m\u001b[38;5;241;43m+\u001b[39;49m\u001b[43m \u001b[49m\u001b[43mb\u001b[49m\n",
      "\u001b[1;31mTypeError\u001b[0m: unsupported operand type(s) for +: 'int' and 'str'"
     ]
    }
   ],
   "source": [
    "c = a + b"
   ]
  },
  {
   "cell_type": "markdown",
   "id": "acc29e7f",
   "metadata": {
    "papermill": {
     "duration": null,
     "end_time": null,
     "exception": null,
     "start_time": null,
     "status": "pending"
    },
    "tags": []
   },
   "source": [
    "Result"
   ]
  },
  {
   "cell_type": "code",
   "execution_count": null,
   "id": "af3d2ad5",
   "metadata": {
    "papermill": {
     "duration": null,
     "end_time": null,
     "exception": null,
     "start_time": null,
     "status": "pending"
    },
    "tags": []
   },
   "outputs": [],
   "source": [
    "c"
   ]
  }
 ],
 "metadata": {
  "kernelspec": {
   "display_name": "Python 3",
   "language": "python",
   "name": "python3"
  },
  "language_info": {
   "codemirror_mode": {
    "name": "ipython",
    "version": 3
   },
   "file_extension": ".py",
   "mimetype": "text/x-python",
   "name": "python",
   "nbconvert_exporter": "python",
   "pygments_lexer": "ipython3",
   "version": "3.12.4"
  },
  "papermill": {
   "default_parameters": {},
   "duration": 4.157432,
   "end_time": "2024-08-15T11:01:10.772261",
   "environment_variables": {},
   "exception": true,
   "input_path": "papermill_demo.ipynb",
   "output_path": "papermill_api.ipynb",
   "parameters": {
    "a": 5,
    "b": "sangeetha"
   },
   "start_time": "2024-08-15T11:01:06.614829",
   "version": "2.6.0"
  }
 },
 "nbformat": 4,
 "nbformat_minor": 5
}