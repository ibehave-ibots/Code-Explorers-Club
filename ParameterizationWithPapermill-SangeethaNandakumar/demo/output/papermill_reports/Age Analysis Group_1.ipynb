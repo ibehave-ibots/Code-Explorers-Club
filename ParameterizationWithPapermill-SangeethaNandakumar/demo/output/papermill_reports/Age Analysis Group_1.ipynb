{
 "cells": [
  {
   "cell_type": "markdown",
   "id": "8ce26255",
   "metadata": {
    "papermill": {
     "duration": 0.009916,
     "end_time": "2024-08-15T11:06:08.174021",
     "exception": false,
     "start_time": "2024-08-15T11:06:08.164105",
     "status": "completed"
    },
    "tags": []
   },
   "source": [
    "# Analysis of Age"
   ]
  },
  {
   "cell_type": "code",
   "execution_count": 1,
   "id": "bebd45af",
   "metadata": {
    "execution": {
     "iopub.execute_input": "2024-08-15T11:06:08.202219Z",
     "iopub.status.busy": "2024-08-15T11:06:08.201198Z",
     "iopub.status.idle": "2024-08-15T11:06:10.392576Z",
     "shell.execute_reply": "2024-08-15T11:06:10.391568Z"
    },
    "papermill": {
     "duration": 2.205448,
     "end_time": "2024-08-15T11:06:10.394578",
     "exception": false,
     "start_time": "2024-08-15T11:06:08.189130",
     "status": "completed"
    },
    "tags": []
   },
   "outputs": [],
   "source": [
    "import pandas as pd\n",
    "import seaborn as sns"
   ]
  },
  {
   "cell_type": "code",
   "execution_count": 2,
   "id": "5edf63d3",
   "metadata": {
    "execution": {
     "iopub.execute_input": "2024-08-15T11:06:10.405128Z",
     "iopub.status.busy": "2024-08-15T11:06:10.405128Z",
     "iopub.status.idle": "2024-08-15T11:06:10.411250Z",
     "shell.execute_reply": "2024-08-15T11:06:10.410646Z"
    },
    "papermill": {
     "duration": 0.014637,
     "end_time": "2024-08-15T11:06:10.414214",
     "exception": false,
     "start_time": "2024-08-15T11:06:10.399577",
     "status": "completed"
    },
    "tags": [
     "parameters"
    ]
   },
   "outputs": [],
   "source": [
    "data_dir = 'data'\n",
    "output_dir = 'output'\n",
    "group = 1"
   ]
  },
  {
   "cell_type": "code",
   "execution_count": 3,
   "id": "22b77de8",
   "metadata": {
    "execution": {
     "iopub.execute_input": "2024-08-15T11:06:10.424536Z",
     "iopub.status.busy": "2024-08-15T11:06:10.423534Z",
     "iopub.status.idle": "2024-08-15T11:06:10.429679Z",
     "shell.execute_reply": "2024-08-15T11:06:10.428668Z"
    },
    "papermill": {
     "duration": 0.015975,
     "end_time": "2024-08-15T11:06:10.433193",
     "exception": false,
     "start_time": "2024-08-15T11:06:10.417218",
     "status": "completed"
    },
    "tags": [
     "injected-parameters"
    ]
   },
   "outputs": [],
   "source": [
    "# Parameters\n",
    "group = 1\n"
   ]
  },
  {
   "cell_type": "markdown",
   "id": "735e7a69",
   "metadata": {
    "papermill": {
     "duration": 0.006513,
     "end_time": "2024-08-15T11:06:10.443720",
     "exception": false,
     "start_time": "2024-08-15T11:06:10.437207",
     "status": "completed"
    },
    "tags": []
   },
   "source": [
    "Reading data file"
   ]
  },
  {
   "cell_type": "code",
   "execution_count": 4,
   "id": "c266bbcc",
   "metadata": {
    "execution": {
     "iopub.execute_input": "2024-08-15T11:06:10.458930Z",
     "iopub.status.busy": "2024-08-15T11:06:10.457929Z",
     "iopub.status.idle": "2024-08-15T11:06:10.470380Z",
     "shell.execute_reply": "2024-08-15T11:06:10.470380Z"
    },
    "papermill": {
     "duration": 0.023668,
     "end_time": "2024-08-15T11:06:10.473389",
     "exception": false,
     "start_time": "2024-08-15T11:06:10.449721",
     "status": "completed"
    },
    "tags": []
   },
   "outputs": [],
   "source": [
    "file_path = data_dir + '/' + f'group{group}.csv'\n",
    "df = pd.read_csv(file_path)"
   ]
  },
  {
   "cell_type": "markdown",
   "id": "a3732331",
   "metadata": {
    "papermill": {
     "duration": 0.002994,
     "end_time": "2024-08-15T11:06:10.479386",
     "exception": false,
     "start_time": "2024-08-15T11:06:10.476392",
     "status": "completed"
    },
    "tags": []
   },
   "source": [
    "Display data"
   ]
  },
  {
   "cell_type": "code",
   "execution_count": 5,
   "id": "1973da04",
   "metadata": {
    "execution": {
     "iopub.execute_input": "2024-08-15T11:06:10.512532Z",
     "iopub.status.busy": "2024-08-15T11:06:10.510998Z",
     "iopub.status.idle": "2024-08-15T11:06:10.545154Z",
     "shell.execute_reply": "2024-08-15T11:06:10.542116Z"
    },
    "papermill": {
     "duration": 0.065251,
     "end_time": "2024-08-15T11:06:10.549154",
     "exception": false,
     "start_time": "2024-08-15T11:06:10.483903",
     "status": "completed"
    },
    "tags": []
   },
   "outputs": [
    {
     "data": {
      "text/html": [
       "<div>\n",
       "<style scoped>\n",
       "    .dataframe tbody tr th:only-of-type {\n",
       "        vertical-align: middle;\n",
       "    }\n",
       "\n",
       "    .dataframe tbody tr th {\n",
       "        vertical-align: top;\n",
       "    }\n",
       "\n",
       "    .dataframe thead th {\n",
       "        text-align: right;\n",
       "    }\n",
       "</style>\n",
       "<table border=\"1\" class=\"dataframe\">\n",
       "  <thead>\n",
       "    <tr style=\"text-align: right;\">\n",
       "      <th></th>\n",
       "      <th>name</th>\n",
       "      <th>age</th>\n",
       "    </tr>\n",
       "  </thead>\n",
       "  <tbody>\n",
       "    <tr>\n",
       "      <th>0</th>\n",
       "      <td>Alice</td>\n",
       "      <td>23</td>\n",
       "    </tr>\n",
       "    <tr>\n",
       "      <th>1</th>\n",
       "      <td>Bob</td>\n",
       "      <td>35</td>\n",
       "    </tr>\n",
       "    <tr>\n",
       "      <th>2</th>\n",
       "      <td>Charlie</td>\n",
       "      <td>45</td>\n",
       "    </tr>\n",
       "  </tbody>\n",
       "</table>\n",
       "</div>"
      ],
      "text/plain": [
       "      name  age\n",
       "0    Alice   23\n",
       "1      Bob   35\n",
       "2  Charlie   45"
      ]
     },
     "execution_count": 5,
     "metadata": {},
     "output_type": "execute_result"
    }
   ],
   "source": [
    "df"
   ]
  },
  {
   "cell_type": "markdown",
   "id": "ded87983",
   "metadata": {
    "papermill": {
     "duration": 0.011569,
     "end_time": "2024-08-15T11:06:10.574321",
     "exception": false,
     "start_time": "2024-08-15T11:06:10.562752",
     "status": "completed"
    },
    "tags": []
   },
   "source": [
    "Mean age"
   ]
  },
  {
   "cell_type": "code",
   "execution_count": 6,
   "id": "55b44795",
   "metadata": {
    "execution": {
     "iopub.execute_input": "2024-08-15T11:06:10.607791Z",
     "iopub.status.busy": "2024-08-15T11:06:10.605789Z",
     "iopub.status.idle": "2024-08-15T11:06:10.620909Z",
     "shell.execute_reply": "2024-08-15T11:06:10.618929Z"
    },
    "papermill": {
     "duration": 0.036084,
     "end_time": "2024-08-15T11:06:10.625936",
     "exception": false,
     "start_time": "2024-08-15T11:06:10.589852",
     "status": "completed"
    },
    "tags": []
   },
   "outputs": [
    {
     "name": "stdout",
     "output_type": "stream",
     "text": [
      "34.33\n"
     ]
    }
   ],
   "source": [
    "print(df.age.mean().round(2))"
   ]
  },
  {
   "cell_type": "markdown",
   "id": "61bb660b",
   "metadata": {
    "papermill": {
     "duration": 0.004008,
     "end_time": "2024-08-15T11:06:10.636456",
     "exception": false,
     "start_time": "2024-08-15T11:06:10.632448",
     "status": "completed"
    },
    "tags": []
   },
   "source": [
    "Writing results to a file"
   ]
  },
  {
   "cell_type": "code",
   "execution_count": 7,
   "id": "d9df02ad",
   "metadata": {
    "execution": {
     "iopub.execute_input": "2024-08-15T11:06:10.667091Z",
     "iopub.status.busy": "2024-08-15T11:06:10.666063Z",
     "iopub.status.idle": "2024-08-15T11:06:10.676303Z",
     "shell.execute_reply": "2024-08-15T11:06:10.674290Z"
    },
    "papermill": {
     "duration": 0.038849,
     "end_time": "2024-08-15T11:06:10.678306",
     "exception": false,
     "start_time": "2024-08-15T11:06:10.639457",
     "status": "completed"
    },
    "tags": []
   },
   "outputs": [],
   "source": [
    "output_file = output_dir + '/' + f'group{group}_results.txt'\n",
    "with open(output_file, 'w') as f:\n",
    "    f.write(str(df.age.mean().round(2)))"
   ]
  }
 ],
 "metadata": {
  "kernelspec": {
   "display_name": "Python 3",
   "language": "python",
   "name": "python3"
  },
  "language_info": {
   "codemirror_mode": {
    "name": "ipython",
    "version": 3
   },
   "file_extension": ".py",
   "mimetype": "text/x-python",
   "name": "python",
   "nbconvert_exporter": "python",
   "pygments_lexer": "ipython3",
   "version": "3.12.4"
  },
  "papermill": {
   "default_parameters": {},
   "duration": 5.879884,
   "end_time": "2024-08-15T11:06:11.253974",
   "environment_variables": {},
   "exception": null,
   "input_path": "Age Analysis.ipynb",
   "output_path": "output/papermill_reports/Age Analysis Group_1.ipynb",
   "parameters": {
    "group": 1
   },
   "start_time": "2024-08-15T11:06:05.374090",
   "version": "2.6.0"
  }
 },
 "nbformat": 4,
 "nbformat_minor": 5
}