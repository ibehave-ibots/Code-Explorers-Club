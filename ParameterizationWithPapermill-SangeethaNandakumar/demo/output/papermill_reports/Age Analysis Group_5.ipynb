{
 "cells": [
  {
   "cell_type": "markdown",
   "id": "5071d398",
   "metadata": {
    "papermill": {
     "duration": 0.003982,
     "end_time": "2024-08-15T11:06:29.636169",
     "exception": false,
     "start_time": "2024-08-15T11:06:29.632187",
     "status": "completed"
    },
    "tags": []
   },
   "source": [
    "# Analysis of Age"
   ]
  },
  {
   "cell_type": "code",
   "execution_count": 1,
   "id": "28bc3e7b",
   "metadata": {
    "execution": {
     "iopub.execute_input": "2024-08-15T11:06:29.652218Z",
     "iopub.status.busy": "2024-08-15T11:06:29.649698Z",
     "iopub.status.idle": "2024-08-15T11:06:31.548076Z",
     "shell.execute_reply": "2024-08-15T11:06:31.547056Z"
    },
    "papermill": {
     "duration": 1.908893,
     "end_time": "2024-08-15T11:06:31.551595",
     "exception": false,
     "start_time": "2024-08-15T11:06:29.642702",
     "status": "completed"
    },
    "tags": []
   },
   "outputs": [],
   "source": [
    "import pandas as pd\n",
    "import seaborn as sns"
   ]
  },
  {
   "cell_type": "code",
   "execution_count": 2,
   "id": "68d315ec",
   "metadata": {
    "execution": {
     "iopub.execute_input": "2024-08-15T11:06:31.562132Z",
     "iopub.status.busy": "2024-08-15T11:06:31.562132Z",
     "iopub.status.idle": "2024-08-15T11:06:31.568937Z",
     "shell.execute_reply": "2024-08-15T11:06:31.567923Z"
    },
    "papermill": {
     "duration": 0.018865,
     "end_time": "2024-08-15T11:06:31.574472",
     "exception": false,
     "start_time": "2024-08-15T11:06:31.555607",
     "status": "completed"
    },
    "tags": [
     "parameters"
    ]
   },
   "outputs": [],
   "source": [
    "data_dir = 'data'\n",
    "output_dir = 'output'\n",
    "group = 1"
   ]
  },
  {
   "cell_type": "code",
   "execution_count": 3,
   "id": "212d5274",
   "metadata": {
    "execution": {
     "iopub.execute_input": "2024-08-15T11:06:31.592314Z",
     "iopub.status.busy": "2024-08-15T11:06:31.591295Z",
     "iopub.status.idle": "2024-08-15T11:06:31.601777Z",
     "shell.execute_reply": "2024-08-15T11:06:31.600232Z"
    },
    "papermill": {
     "duration": 0.026312,
     "end_time": "2024-08-15T11:06:31.606538",
     "exception": false,
     "start_time": "2024-08-15T11:06:31.580226",
     "status": "completed"
    },
    "tags": [
     "injected-parameters"
    ]
   },
   "outputs": [],
   "source": [
    "# Parameters\n",
    "group = 5\n"
   ]
  },
  {
   "cell_type": "markdown",
   "id": "f2c0aeb6",
   "metadata": {
    "papermill": {
     "duration": 0.00955,
     "end_time": "2024-08-15T11:06:31.627652",
     "exception": false,
     "start_time": "2024-08-15T11:06:31.618102",
     "status": "completed"
    },
    "tags": []
   },
   "source": [
    "Reading data file"
   ]
  },
  {
   "cell_type": "code",
   "execution_count": 4,
   "id": "131d17f7",
   "metadata": {
    "execution": {
     "iopub.execute_input": "2024-08-15T11:06:31.641180Z",
     "iopub.status.busy": "2024-08-15T11:06:31.639176Z",
     "iopub.status.idle": "2024-08-15T11:06:31.658619Z",
     "shell.execute_reply": "2024-08-15T11:06:31.657609Z"
    },
    "papermill": {
     "duration": 0.029077,
     "end_time": "2024-08-15T11:06:31.662254",
     "exception": false,
     "start_time": "2024-08-15T11:06:31.633177",
     "status": "completed"
    },
    "tags": []
   },
   "outputs": [],
   "source": [
    "file_path = data_dir + '/' + f'group{group}.csv'\n",
    "df = pd.read_csv(file_path)"
   ]
  },
  {
   "cell_type": "markdown",
   "id": "50012c11",
   "metadata": {
    "papermill": {
     "duration": 0.004006,
     "end_time": "2024-08-15T11:06:31.670260",
     "exception": false,
     "start_time": "2024-08-15T11:06:31.666254",
     "status": "completed"
    },
    "tags": []
   },
   "source": [
    "Display data"
   ]
  },
  {
   "cell_type": "code",
   "execution_count": 5,
   "id": "6c17712b",
   "metadata": {
    "execution": {
     "iopub.execute_input": "2024-08-15T11:06:31.680780Z",
     "iopub.status.busy": "2024-08-15T11:06:31.679785Z",
     "iopub.status.idle": "2024-08-15T11:06:31.704037Z",
     "shell.execute_reply": "2024-08-15T11:06:31.704037Z"
    },
    "papermill": {
     "duration": 0.033269,
     "end_time": "2024-08-15T11:06:31.707049",
     "exception": false,
     "start_time": "2024-08-15T11:06:31.673780",
     "status": "completed"
    },
    "tags": []
   },
   "outputs": [
    {
     "data": {
      "text/html": [
       "<div>\n",
       "<style scoped>\n",
       "    .dataframe tbody tr th:only-of-type {\n",
       "        vertical-align: middle;\n",
       "    }\n",
       "\n",
       "    .dataframe tbody tr th {\n",
       "        vertical-align: top;\n",
       "    }\n",
       "\n",
       "    .dataframe thead th {\n",
       "        text-align: right;\n",
       "    }\n",
       "</style>\n",
       "<table border=\"1\" class=\"dataframe\">\n",
       "  <thead>\n",
       "    <tr style=\"text-align: right;\">\n",
       "      <th></th>\n",
       "      <th>name</th>\n",
       "      <th>age</th>\n",
       "    </tr>\n",
       "  </thead>\n",
       "  <tbody>\n",
       "    <tr>\n",
       "      <th>0</th>\n",
       "      <td>Mona</td>\n",
       "      <td>34</td>\n",
       "    </tr>\n",
       "    <tr>\n",
       "      <th>1</th>\n",
       "      <td>Nina</td>\n",
       "      <td>38</td>\n",
       "    </tr>\n",
       "    <tr>\n",
       "      <th>2</th>\n",
       "      <td>Oscar</td>\n",
       "      <td>44</td>\n",
       "    </tr>\n",
       "  </tbody>\n",
       "</table>\n",
       "</div>"
      ],
      "text/plain": [
       "    name  age\n",
       "0   Mona   34\n",
       "1   Nina   38\n",
       "2  Oscar   44"
      ]
     },
     "execution_count": 5,
     "metadata": {},
     "output_type": "execute_result"
    }
   ],
   "source": [
    "df"
   ]
  },
  {
   "cell_type": "markdown",
   "id": "dd49cc4b",
   "metadata": {
    "papermill": {
     "duration": 0.00449,
     "end_time": "2024-08-15T11:06:31.715537",
     "exception": false,
     "start_time": "2024-08-15T11:06:31.711047",
     "status": "completed"
    },
    "tags": []
   },
   "source": [
    "Mean age"
   ]
  },
  {
   "cell_type": "code",
   "execution_count": 6,
   "id": "30bd0fcd",
   "metadata": {
    "execution": {
     "iopub.execute_input": "2024-08-15T11:06:31.727637Z",
     "iopub.status.busy": "2024-08-15T11:06:31.727637Z",
     "iopub.status.idle": "2024-08-15T11:06:31.733820Z",
     "shell.execute_reply": "2024-08-15T11:06:31.732906Z"
    },
    "papermill": {
     "duration": 0.016768,
     "end_time": "2024-08-15T11:06:31.737820",
     "exception": false,
     "start_time": "2024-08-15T11:06:31.721052",
     "status": "completed"
    },
    "tags": []
   },
   "outputs": [
    {
     "name": "stdout",
     "output_type": "stream",
     "text": [
      "38.67\n"
     ]
    }
   ],
   "source": [
    "print(df.age.mean().round(2))"
   ]
  },
  {
   "cell_type": "markdown",
   "id": "1a9578b9",
   "metadata": {
    "papermill": {
     "duration": 0.006013,
     "end_time": "2024-08-15T11:06:31.749098",
     "exception": false,
     "start_time": "2024-08-15T11:06:31.743085",
     "status": "completed"
    },
    "tags": []
   },
   "source": [
    "Writing results to a file"
   ]
  },
  {
   "cell_type": "code",
   "execution_count": 7,
   "id": "006b0c93",
   "metadata": {
    "execution": {
     "iopub.execute_input": "2024-08-15T11:06:31.771218Z",
     "iopub.status.busy": "2024-08-15T11:06:31.769218Z",
     "iopub.status.idle": "2024-08-15T11:06:31.782299Z",
     "shell.execute_reply": "2024-08-15T11:06:31.781285Z"
    },
    "papermill": {
     "duration": 0.026634,
     "end_time": "2024-08-15T11:06:31.785310",
     "exception": false,
     "start_time": "2024-08-15T11:06:31.758676",
     "status": "completed"
    },
    "tags": []
   },
   "outputs": [],
   "source": [
    "output_file = output_dir + '/' + f'group{group}_results.txt'\n",
    "with open(output_file, 'w') as f:\n",
    "    f.write(str(df.age.mean().round(2)))"
   ]
  }
 ],
 "metadata": {
  "kernelspec": {
   "display_name": "Python 3",
   "language": "python",
   "name": "python3"
  },
  "language_info": {
   "codemirror_mode": {
    "name": "ipython",
    "version": 3
   },
   "file_extension": ".py",
   "mimetype": "text/x-python",
   "name": "python",
   "nbconvert_exporter": "python",
   "pygments_lexer": "ipython3",
   "version": "3.12.4"
  },
  "papermill": {
   "default_parameters": {},
   "duration": 5.303717,
   "end_time": "2024-08-15T11:06:32.486059",
   "environment_variables": {},
   "exception": null,
   "input_path": "Age Analysis.ipynb",
   "output_path": "output/papermill_reports/Age Analysis Group_5.ipynb",
   "parameters": {
    "group": 5
   },
   "start_time": "2024-08-15T11:06:27.182342",
   "version": "2.6.0"
  }
 },
 "nbformat": 4,
 "nbformat_minor": 5
}