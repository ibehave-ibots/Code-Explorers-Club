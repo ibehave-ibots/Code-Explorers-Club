{
 "cells": [
  {
   "cell_type": "markdown",
   "id": "e71f9a58",
   "metadata": {
    "papermill": {
     "duration": 0.007553,
     "end_time": "2024-08-15T11:06:13.896459",
     "exception": false,
     "start_time": "2024-08-15T11:06:13.888906",
     "status": "completed"
    },
    "tags": []
   },
   "source": [
    "# Analysis of Age"
   ]
  },
  {
   "cell_type": "code",
   "execution_count": 1,
   "id": "a13e5422",
   "metadata": {
    "execution": {
     "iopub.execute_input": "2024-08-15T11:06:13.911838Z",
     "iopub.status.busy": "2024-08-15T11:06:13.911330Z",
     "iopub.status.idle": "2024-08-15T11:06:15.754531Z",
     "shell.execute_reply": "2024-08-15T11:06:15.751497Z"
    },
    "papermill": {
     "duration": 1.857588,
     "end_time": "2024-08-15T11:06:15.761578",
     "exception": false,
     "start_time": "2024-08-15T11:06:13.903990",
     "status": "completed"
    },
    "tags": []
   },
   "outputs": [],
   "source": [
    "import pandas as pd\n",
    "import seaborn as sns"
   ]
  },
  {
   "cell_type": "code",
   "execution_count": 2,
   "id": "9e11fb41",
   "metadata": {
    "execution": {
     "iopub.execute_input": "2024-08-15T11:06:15.786721Z",
     "iopub.status.busy": "2024-08-15T11:06:15.785721Z",
     "iopub.status.idle": "2024-08-15T11:06:15.794820Z",
     "shell.execute_reply": "2024-08-15T11:06:15.792802Z"
    },
    "papermill": {
     "duration": 0.03029,
     "end_time": "2024-08-15T11:06:15.801495",
     "exception": false,
     "start_time": "2024-08-15T11:06:15.771205",
     "status": "completed"
    },
    "tags": [
     "parameters"
    ]
   },
   "outputs": [],
   "source": [
    "data_dir = 'data'\n",
    "output_dir = 'output'\n",
    "group = 1"
   ]
  },
  {
   "cell_type": "code",
   "execution_count": 3,
   "id": "f45c5420",
   "metadata": {
    "execution": {
     "iopub.execute_input": "2024-08-15T11:06:15.814904Z",
     "iopub.status.busy": "2024-08-15T11:06:15.813902Z",
     "iopub.status.idle": "2024-08-15T11:06:15.821409Z",
     "shell.execute_reply": "2024-08-15T11:06:15.820901Z"
    },
    "papermill": {
     "duration": 0.017056,
     "end_time": "2024-08-15T11:06:15.823419",
     "exception": false,
     "start_time": "2024-08-15T11:06:15.806363",
     "status": "completed"
    },
    "tags": [
     "injected-parameters"
    ]
   },
   "outputs": [],
   "source": [
    "# Parameters\n",
    "group = 2\n"
   ]
  },
  {
   "cell_type": "markdown",
   "id": "c7eaa9c2",
   "metadata": {
    "papermill": {
     "duration": 0.004567,
     "end_time": "2024-08-15T11:06:15.831000",
     "exception": false,
     "start_time": "2024-08-15T11:06:15.826433",
     "status": "completed"
    },
    "tags": []
   },
   "source": [
    "Reading data file"
   ]
  },
  {
   "cell_type": "code",
   "execution_count": 4,
   "id": "43f202ed",
   "metadata": {
    "execution": {
     "iopub.execute_input": "2024-08-15T11:06:15.837937Z",
     "iopub.status.busy": "2024-08-15T11:06:15.837937Z",
     "iopub.status.idle": "2024-08-15T11:06:15.848462Z",
     "shell.execute_reply": "2024-08-15T11:06:15.846442Z"
    },
    "papermill": {
     "duration": 0.019052,
     "end_time": "2024-08-15T11:06:15.851987",
     "exception": false,
     "start_time": "2024-08-15T11:06:15.832935",
     "status": "completed"
    },
    "tags": []
   },
   "outputs": [],
   "source": [
    "file_path = data_dir + '/' + f'group{group}.csv'\n",
    "df = pd.read_csv(file_path)"
   ]
  },
  {
   "cell_type": "markdown",
   "id": "22089a2e",
   "metadata": {
    "papermill": {
     "duration": 0.00351,
     "end_time": "2024-08-15T11:06:15.859492",
     "exception": false,
     "start_time": "2024-08-15T11:06:15.855982",
     "status": "completed"
    },
    "tags": []
   },
   "source": [
    "Display data"
   ]
  },
  {
   "cell_type": "code",
   "execution_count": 5,
   "id": "7077cfc5",
   "metadata": {
    "execution": {
     "iopub.execute_input": "2024-08-15T11:06:15.869008Z",
     "iopub.status.busy": "2024-08-15T11:06:15.868007Z",
     "iopub.status.idle": "2024-08-15T11:06:15.883709Z",
     "shell.execute_reply": "2024-08-15T11:06:15.883709Z"
    },
    "papermill": {
     "duration": 0.023714,
     "end_time": "2024-08-15T11:06:15.886716",
     "exception": false,
     "start_time": "2024-08-15T11:06:15.863002",
     "status": "completed"
    },
    "tags": []
   },
   "outputs": [
    {
     "data": {
      "text/html": [
       "<div>\n",
       "<style scoped>\n",
       "    .dataframe tbody tr th:only-of-type {\n",
       "        vertical-align: middle;\n",
       "    }\n",
       "\n",
       "    .dataframe tbody tr th {\n",
       "        vertical-align: top;\n",
       "    }\n",
       "\n",
       "    .dataframe thead th {\n",
       "        text-align: right;\n",
       "    }\n",
       "</style>\n",
       "<table border=\"1\" class=\"dataframe\">\n",
       "  <thead>\n",
       "    <tr style=\"text-align: right;\">\n",
       "      <th></th>\n",
       "      <th>name</th>\n",
       "      <th>age</th>\n",
       "    </tr>\n",
       "  </thead>\n",
       "  <tbody>\n",
       "    <tr>\n",
       "      <th>0</th>\n",
       "      <td>David</td>\n",
       "      <td>28</td>\n",
       "    </tr>\n",
       "    <tr>\n",
       "      <th>1</th>\n",
       "      <td>Eve</td>\n",
       "      <td>40</td>\n",
       "    </tr>\n",
       "    <tr>\n",
       "      <th>2</th>\n",
       "      <td>Frank</td>\n",
       "      <td>50</td>\n",
       "    </tr>\n",
       "  </tbody>\n",
       "</table>\n",
       "</div>"
      ],
      "text/plain": [
       "    name  age\n",
       "0  David   28\n",
       "1    Eve   40\n",
       "2  Frank   50"
      ]
     },
     "execution_count": 5,
     "metadata": {},
     "output_type": "execute_result"
    }
   ],
   "source": [
    "df"
   ]
  },
  {
   "cell_type": "markdown",
   "id": "cd279a5a",
   "metadata": {
    "papermill": {
     "duration": 0.004002,
     "end_time": "2024-08-15T11:06:15.897242",
     "exception": false,
     "start_time": "2024-08-15T11:06:15.893240",
     "status": "completed"
    },
    "tags": []
   },
   "source": [
    "Mean age"
   ]
  },
  {
   "cell_type": "code",
   "execution_count": 6,
   "id": "a0b10fcc",
   "metadata": {
    "execution": {
     "iopub.execute_input": "2024-08-15T11:06:15.906767Z",
     "iopub.status.busy": "2024-08-15T11:06:15.906767Z",
     "iopub.status.idle": "2024-08-15T11:06:15.911277Z",
     "shell.execute_reply": "2024-08-15T11:06:15.911277Z"
    },
    "papermill": {
     "duration": 0.01154,
     "end_time": "2024-08-15T11:06:15.913288",
     "exception": false,
     "start_time": "2024-08-15T11:06:15.901748",
     "status": "completed"
    },
    "tags": []
   },
   "outputs": [
    {
     "name": "stdout",
     "output_type": "stream",
     "text": [
      "39.33\n"
     ]
    }
   ],
   "source": [
    "print(df.age.mean().round(2))"
   ]
  },
  {
   "cell_type": "markdown",
   "id": "090ad7ed",
   "metadata": {
    "papermill": {
     "duration": 0.00408,
     "end_time": "2024-08-15T11:06:15.922370",
     "exception": false,
     "start_time": "2024-08-15T11:06:15.918290",
     "status": "completed"
    },
    "tags": []
   },
   "source": [
    "Writing results to a file"
   ]
  },
  {
   "cell_type": "code",
   "execution_count": 7,
   "id": "6d2b0113",
   "metadata": {
    "execution": {
     "iopub.execute_input": "2024-08-15T11:06:15.930963Z",
     "iopub.status.busy": "2024-08-15T11:06:15.930963Z",
     "iopub.status.idle": "2024-08-15T11:06:15.936679Z",
     "shell.execute_reply": "2024-08-15T11:06:15.936679Z"
    },
    "papermill": {
     "duration": 0.013319,
     "end_time": "2024-08-15T11:06:15.938696",
     "exception": false,
     "start_time": "2024-08-15T11:06:15.925377",
     "status": "completed"
    },
    "tags": []
   },
   "outputs": [],
   "source": [
    "output_file = output_dir + '/' + f'group{group}_results.txt'\n",
    "with open(output_file, 'w') as f:\n",
    "    f.write(str(df.age.mean().round(2)))"
   ]
  }
 ],
 "metadata": {
  "kernelspec": {
   "display_name": "Python 3",
   "language": "python",
   "name": "python3"
  },
  "language_info": {
   "codemirror_mode": {
    "name": "ipython",
    "version": 3
   },
   "file_extension": ".py",
   "mimetype": "text/x-python",
   "name": "python",
   "nbconvert_exporter": "python",
   "pygments_lexer": "ipython3",
   "version": "3.12.4"
  },
  "papermill": {
   "default_parameters": {},
   "duration": 5.217746,
   "end_time": "2024-08-15T11:06:16.495816",
   "environment_variables": {},
   "exception": null,
   "input_path": "Age Analysis.ipynb",
   "output_path": "output/papermill_reports/Age Analysis Group_2.ipynb",
   "parameters": {
    "group": 2
   },
   "start_time": "2024-08-15T11:06:11.278070",
   "version": "2.6.0"
  }
 },
 "nbformat": 4,
 "nbformat_minor": 5
}