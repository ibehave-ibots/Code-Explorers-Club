{
 "cells": [
  {
   "cell_type": "markdown",
   "id": "f0e7bfcf",
   "metadata": {
    "papermill": {
     "duration": 0.010541,
     "end_time": "2024-08-15T11:06:24.459716",
     "exception": false,
     "start_time": "2024-08-15T11:06:24.449175",
     "status": "completed"
    },
    "tags": []
   },
   "source": [
    "# Analysis of Age"
   ]
  },
  {
   "cell_type": "code",
   "execution_count": 1,
   "id": "e8eca7c8",
   "metadata": {
    "execution": {
     "iopub.execute_input": "2024-08-15T11:06:24.484920Z",
     "iopub.status.busy": "2024-08-15T11:06:24.483920Z",
     "iopub.status.idle": "2024-08-15T11:06:26.431061Z",
     "shell.execute_reply": "2024-08-15T11:06:26.430210Z"
    },
    "papermill": {
     "duration": 1.963185,
     "end_time": "2024-08-15T11:06:26.433458",
     "exception": false,
     "start_time": "2024-08-15T11:06:24.470273",
     "status": "completed"
    },
    "tags": []
   },
   "outputs": [],
   "source": [
    "import pandas as pd\n",
    "import seaborn as sns"
   ]
  },
  {
   "cell_type": "code",
   "execution_count": 2,
   "id": "2424c79a",
   "metadata": {
    "execution": {
     "iopub.execute_input": "2024-08-15T11:06:26.443998Z",
     "iopub.status.busy": "2024-08-15T11:06:26.443998Z",
     "iopub.status.idle": "2024-08-15T11:06:26.447761Z",
     "shell.execute_reply": "2024-08-15T11:06:26.447761Z"
    },
    "papermill": {
     "duration": 0.012312,
     "end_time": "2024-08-15T11:06:26.449769",
     "exception": false,
     "start_time": "2024-08-15T11:06:26.437457",
     "status": "completed"
    },
    "tags": [
     "parameters"
    ]
   },
   "outputs": [],
   "source": [
    "data_dir = 'data'\n",
    "output_dir = 'output'\n",
    "group = 1"
   ]
  },
  {
   "cell_type": "code",
   "execution_count": 3,
   "id": "c738daf5",
   "metadata": {
    "execution": {
     "iopub.execute_input": "2024-08-15T11:06:26.459289Z",
     "iopub.status.busy": "2024-08-15T11:06:26.458289Z",
     "iopub.status.idle": "2024-08-15T11:06:26.462340Z",
     "shell.execute_reply": "2024-08-15T11:06:26.462340Z"
    },
    "papermill": {
     "duration": 0.012066,
     "end_time": "2024-08-15T11:06:26.465351",
     "exception": false,
     "start_time": "2024-08-15T11:06:26.453285",
     "status": "completed"
    },
    "tags": [
     "injected-parameters"
    ]
   },
   "outputs": [],
   "source": [
    "# Parameters\n",
    "group = 4\n"
   ]
  },
  {
   "cell_type": "markdown",
   "id": "30ae9d59",
   "metadata": {
    "papermill": {
     "duration": 0.004527,
     "end_time": "2024-08-15T11:06:26.472875",
     "exception": false,
     "start_time": "2024-08-15T11:06:26.468348",
     "status": "completed"
    },
    "tags": []
   },
   "source": [
    "Reading data file"
   ]
  },
  {
   "cell_type": "code",
   "execution_count": 4,
   "id": "b75b070c",
   "metadata": {
    "execution": {
     "iopub.execute_input": "2024-08-15T11:06:26.482264Z",
     "iopub.status.busy": "2024-08-15T11:06:26.480885Z",
     "iopub.status.idle": "2024-08-15T11:06:26.493424Z",
     "shell.execute_reply": "2024-08-15T11:06:26.492416Z"
    },
    "papermill": {
     "duration": 0.018556,
     "end_time": "2024-08-15T11:06:26.495441",
     "exception": false,
     "start_time": "2024-08-15T11:06:26.476885",
     "status": "completed"
    },
    "tags": []
   },
   "outputs": [],
   "source": [
    "file_path = data_dir + '/' + f'group{group}.csv'\n",
    "df = pd.read_csv(file_path)"
   ]
  },
  {
   "cell_type": "markdown",
   "id": "6fd56328",
   "metadata": {
    "papermill": {
     "duration": 0.003575,
     "end_time": "2024-08-15T11:06:26.502396",
     "exception": false,
     "start_time": "2024-08-15T11:06:26.498821",
     "status": "completed"
    },
    "tags": []
   },
   "source": [
    "Display data"
   ]
  },
  {
   "cell_type": "code",
   "execution_count": 5,
   "id": "e9098e5f",
   "metadata": {
    "execution": {
     "iopub.execute_input": "2024-08-15T11:06:26.511479Z",
     "iopub.status.busy": "2024-08-15T11:06:26.510973Z",
     "iopub.status.idle": "2024-08-15T11:06:26.531298Z",
     "shell.execute_reply": "2024-08-15T11:06:26.531298Z"
    },
    "papermill": {
     "duration": 0.029314,
     "end_time": "2024-08-15T11:06:26.534710",
     "exception": false,
     "start_time": "2024-08-15T11:06:26.505396",
     "status": "completed"
    },
    "tags": []
   },
   "outputs": [
    {
     "data": {
      "text/html": [
       "<div>\n",
       "<style scoped>\n",
       "    .dataframe tbody tr th:only-of-type {\n",
       "        vertical-align: middle;\n",
       "    }\n",
       "\n",
       "    .dataframe tbody tr th {\n",
       "        vertical-align: top;\n",
       "    }\n",
       "\n",
       "    .dataframe thead th {\n",
       "        text-align: right;\n",
       "    }\n",
       "</style>\n",
       "<table border=\"1\" class=\"dataframe\">\n",
       "  <thead>\n",
       "    <tr style=\"text-align: right;\">\n",
       "      <th></th>\n",
       "      <th>name</th>\n",
       "      <th>age</th>\n",
       "    </tr>\n",
       "  </thead>\n",
       "  <tbody>\n",
       "    <tr>\n",
       "      <th>0</th>\n",
       "      <td>Jack</td>\n",
       "      <td>25</td>\n",
       "    </tr>\n",
       "    <tr>\n",
       "      <th>1</th>\n",
       "      <td>Kathy</td>\n",
       "      <td>39</td>\n",
       "    </tr>\n",
       "    <tr>\n",
       "      <th>2</th>\n",
       "      <td>Leo</td>\n",
       "      <td>47</td>\n",
       "    </tr>\n",
       "  </tbody>\n",
       "</table>\n",
       "</div>"
      ],
      "text/plain": [
       "    name  age\n",
       "0   Jack   25\n",
       "1  Kathy   39\n",
       "2    Leo   47"
      ]
     },
     "execution_count": 5,
     "metadata": {},
     "output_type": "execute_result"
    }
   ],
   "source": [
    "df"
   ]
  },
  {
   "cell_type": "markdown",
   "id": "6db4df50",
   "metadata": {
    "papermill": {
     "duration": 0.005327,
     "end_time": "2024-08-15T11:06:26.544036",
     "exception": false,
     "start_time": "2024-08-15T11:06:26.538709",
     "status": "completed"
    },
    "tags": []
   },
   "source": [
    "Mean age"
   ]
  },
  {
   "cell_type": "code",
   "execution_count": 6,
   "id": "663da832",
   "metadata": {
    "execution": {
     "iopub.execute_input": "2024-08-15T11:06:26.553095Z",
     "iopub.status.busy": "2024-08-15T11:06:26.552093Z",
     "iopub.status.idle": "2024-08-15T11:06:26.558542Z",
     "shell.execute_reply": "2024-08-15T11:06:26.557533Z"
    },
    "papermill": {
     "duration": 0.014499,
     "end_time": "2024-08-15T11:06:26.562077",
     "exception": false,
     "start_time": "2024-08-15T11:06:26.547578",
     "status": "completed"
    },
    "tags": []
   },
   "outputs": [
    {
     "name": "stdout",
     "output_type": "stream",
     "text": [
      "37.0\n"
     ]
    }
   ],
   "source": [
    "print(df.age.mean().round(2))"
   ]
  },
  {
   "cell_type": "markdown",
   "id": "18400140",
   "metadata": {
    "papermill": {
     "duration": 0.004728,
     "end_time": "2024-08-15T11:06:26.572090",
     "exception": false,
     "start_time": "2024-08-15T11:06:26.567362",
     "status": "completed"
    },
    "tags": []
   },
   "source": [
    "Writing results to a file"
   ]
  },
  {
   "cell_type": "code",
   "execution_count": 7,
   "id": "49804f8b",
   "metadata": {
    "execution": {
     "iopub.execute_input": "2024-08-15T11:06:26.581481Z",
     "iopub.status.busy": "2024-08-15T11:06:26.581481Z",
     "iopub.status.idle": "2024-08-15T11:06:26.587184Z",
     "shell.execute_reply": "2024-08-15T11:06:26.587184Z"
    },
    "papermill": {
     "duration": 0.013826,
     "end_time": "2024-08-15T11:06:26.589925",
     "exception": false,
     "start_time": "2024-08-15T11:06:26.576099",
     "status": "completed"
    },
    "tags": []
   },
   "outputs": [],
   "source": [
    "output_file = output_dir + '/' + f'group{group}_results.txt'\n",
    "with open(output_file, 'w') as f:\n",
    "    f.write(str(df.age.mean().round(2)))"
   ]
  }
 ],
 "metadata": {
  "kernelspec": {
   "display_name": "Python 3",
   "language": "python",
   "name": "python3"
  },
  "language_info": {
   "codemirror_mode": {
    "name": "ipython",
    "version": 3
   },
   "file_extension": ".py",
   "mimetype": "text/x-python",
   "name": "python",
   "nbconvert_exporter": "python",
   "pygments_lexer": "ipython3",
   "version": "3.12.4"
  },
  "papermill": {
   "default_parameters": {},
   "duration": 5.457501,
   "end_time": "2024-08-15T11:06:27.167585",
   "environment_variables": {},
   "exception": null,
   "input_path": "Age Analysis.ipynb",
   "output_path": "output/papermill_reports/Age Analysis Group_4.ipynb",
   "parameters": {
    "group": 4
   },
   "start_time": "2024-08-15T11:06:21.710084",
   "version": "2.6.0"
  }
 },
 "nbformat": 4,
 "nbformat_minor": 5
}